{
 "cells": [
  {
   "cell_type": "code",
   "execution_count": 1,
   "id": "532a312c-ce49-418c-94c1-ffa1f202f9b5",
   "metadata": {},
   "outputs": [],
   "source": [
    "#Bonjour"
   ]
  },
  {
   "cell_type": "code",
   "execution_count": 3,
   "id": "0be6665f-6f17-4428-8ca3-28edabaa1bf2",
   "metadata": {},
   "outputs": [],
   "source": [
    "x=1;"
   ]
  },
  {
   "cell_type": "code",
   "execution_count": 4,
   "id": "3aa9ad08-9b08-4675-844b-66d2a7559dc7",
   "metadata": {},
   "outputs": [
    {
     "name": "stdout",
     "output_type": "stream",
     "text": [
      "1\n"
     ]
    }
   ],
   "source": [
    "print(x);"
   ]
  },
  {
   "cell_type": "code",
   "execution_count": null,
   "id": "fd14a7eb-4dcf-4a28-bba4-ba0b3f33a6a2",
   "metadata": {},
   "outputs": [],
   "source": []
  }
 ],
 "metadata": {
  "kernelspec": {
   "display_name": "Python 3 (ipykernel)",
   "language": "python",
   "name": "python3"
  },
  "language_info": {
   "codemirror_mode": {
    "name": "ipython",
    "version": 3
   },
   "file_extension": ".py",
   "mimetype": "text/x-python",
   "name": "python",
   "nbconvert_exporter": "python",
   "pygments_lexer": "ipython3",
   "version": "3.8.15"
  }
 },
 "nbformat": 4,
 "nbformat_minor": 5
}
